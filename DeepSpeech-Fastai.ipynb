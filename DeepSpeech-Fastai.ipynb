{
 "cells": [
  {
   "cell_type": "code",
   "execution_count": 1,
   "metadata": {},
   "outputs": [],
   "source": [
    "%reload_ext autoreload\n",
    "%autoreload 2\n",
    "%matplotlib inline"
   ]
  },
  {
   "cell_type": "code",
   "execution_count": 2,
   "metadata": {
    "scrolled": false
   },
   "outputs": [],
   "source": [
    "from fastai.audio import *"
   ]
  },
  {
   "cell_type": "code",
   "execution_count": 3,
   "metadata": {},
   "outputs": [],
   "source": [
    "sg_cfg= SpectrogramConfig(hop=480, n_mels=128, n_fft=960, top_db=80, f_min=20.0, f_max=22050)\n",
    "config_split= AudioConfig(resample_to = 8000, remove_silence = \"all\", silence_padding=200, silence_threshold=20, sg_cfg=sg_cfg, duration=10000)"
   ]
  },
  {
   "cell_type": "code",
   "execution_count": 4,
   "metadata": {},
   "outputs": [],
   "source": [
    "train_df = pd.read_csv(Path(\"./data/train.tsv\"),sep=\"\\t\")"
   ]
  },
  {
   "cell_type": "code",
   "execution_count": 5,
   "metadata": {},
   "outputs": [],
   "source": [
    "class DeepSpeechAudioList(AudioList):\n",
    "    _bunch = DataBunch\n",
    "    def __init__(self, items, path, config=AudioConfig(), context=5, **kwargs):\n",
    "        super().__init__(items=items, path=path, config=config, **kwargs)\n",
    "        self.context = context\n",
    "        \n",
    "    def get(self,i):\n",
    "        one_spectro = super().get(i).spectro\n",
    "        one_spectro = F.pad(one_spectro, pad=(self.context,self.context))\n",
    "        return torch.stack([one_spectro[:,:,i:i+(self.context*2+1)].squeeze() for i in range(one_spectro.shape[-1]-(self.context*2))])"
   ]
  },
  {
   "cell_type": "code",
   "execution_count": 6,
   "metadata": {},
   "outputs": [],
   "source": [
    "class SentenceCharList(ItemList):\n",
    "    itoc = [\"a\",\"b\",\"c\",\"d\",\"e\",\"f\",\"g\",\"h\",\"i\",\"j\",\"k\",\"l\",\"m\",\"n\",\"o\",\"p\",\"q\",\"r\",\"s\",\"t\",\"u\",\"v\",\"w\",\"x\",\"y\",\"z\",\" \",\"'\",\"\"]\n",
    "    ctoi = defaultdict(lambda: 28)\n",
    "    def __init__(self, items, path, **kwargs):\n",
    "        super().__init__(items, **kwargs)\n",
    "        for i,char in enumerate(self.itoc):\n",
    "            self.ctoi[char]=i\n",
    "        \n",
    "    def get(self,i):\n",
    "#        return torch.tensor([self.ctoi[j] for j in self.items[i].lower()])\n",
    "        return F.pad(torch.tensor([self.ctoi[j] for j in self.items[i].lower()]), pad=(0,200), mode='constant', value=28)[:100]\n",
    "#        return torch.tensor([self.ctoi[j] for j in self.items[i].lower()])"
   ]
  },
  {
   "cell_type": "code",
   "execution_count": 7,
   "metadata": {},
   "outputs": [],
   "source": [
    "#My solution to having to look through training files to make sure they are in training and not validation. \n",
    "train_file = defaultdict(bool)\n",
    "for i in train_df.path:\n",
    "    train_file[i] = True"
   ]
  },
  {
   "cell_type": "code",
   "execution_count": 8,
   "metadata": {
    "scrolled": true
   },
   "outputs": [
    {
     "name": "stdout",
     "output_type": "stream",
     "text": [
      "Preprocessing: Resampling to 8000\n"
     ]
    },
    {
     "data": {
      "text/html": [
       "\n",
       "    <div>\n",
       "        <style>\n",
       "            /* Turns off some styling */\n",
       "            progress {\n",
       "                /* gets rid of default border in Firefox and Opera. */\n",
       "                border: none;\n",
       "                /* Needs to be in here for Safari polyfill so background images work as expected. */\n",
       "                background-size: auto;\n",
       "            }\n",
       "            .progress-bar-interrupted, .progress-bar-interrupted::-webkit-progress-bar {\n",
       "                background: #F44336;\n",
       "            }\n",
       "        </style>\n",
       "      <progress value='2612' class='' max='2612', style='width:300px; height:20px; vertical-align: middle;'></progress>\n",
       "      100.00% [2612/2612 00:00<00:00]\n",
       "    </div>\n",
       "    "
      ],
      "text/plain": [
       "<IPython.core.display.HTML object>"
      ]
     },
     "metadata": {},
     "output_type": "display_data"
    },
    {
     "name": "stdout",
     "output_type": "stream",
     "text": [
      "Preprocessing: Removing Silence\n"
     ]
    },
    {
     "data": {
      "text/html": [
       "\n",
       "    <div>\n",
       "        <style>\n",
       "            /* Turns off some styling */\n",
       "            progress {\n",
       "                /* gets rid of default border in Firefox and Opera. */\n",
       "                border: none;\n",
       "                /* Needs to be in here for Safari polyfill so background images work as expected. */\n",
       "                background-size: auto;\n",
       "            }\n",
       "            .progress-bar-interrupted, .progress-bar-interrupted::-webkit-progress-bar {\n",
       "                background: #F44336;\n",
       "            }\n",
       "        </style>\n",
       "      <progress value='2612' class='' max='2612', style='width:300px; height:20px; vertical-align: middle;'></progress>\n",
       "      100.00% [2612/2612 00:00<00:00]\n",
       "    </div>\n",
       "    "
      ],
      "text/plain": [
       "<IPython.core.display.HTML object>"
      ]
     },
     "metadata": {},
     "output_type": "display_data"
    },
    {
     "name": "stdout",
     "output_type": "stream",
     "text": [
      "Preprocessing: Resampling to 8000\n"
     ]
    },
    {
     "data": {
      "text/html": [
       "\n",
       "    <div>\n",
       "        <style>\n",
       "            /* Turns off some styling */\n",
       "            progress {\n",
       "                /* gets rid of default border in Firefox and Opera. */\n",
       "                border: none;\n",
       "                /* Needs to be in here for Safari polyfill so background images work as expected. */\n",
       "                background-size: auto;\n",
       "            }\n",
       "            .progress-bar-interrupted, .progress-bar-interrupted::-webkit-progress-bar {\n",
       "                background: #F44336;\n",
       "            }\n",
       "        </style>\n",
       "      <progress value='652' class='' max='652', style='width:300px; height:20px; vertical-align: middle;'></progress>\n",
       "      100.00% [652/652 00:00<00:00]\n",
       "    </div>\n",
       "    "
      ],
      "text/plain": [
       "<IPython.core.display.HTML object>"
      ]
     },
     "metadata": {},
     "output_type": "display_data"
    },
    {
     "name": "stdout",
     "output_type": "stream",
     "text": [
      "Preprocessing: Removing Silence\n"
     ]
    },
    {
     "data": {
      "text/html": [
       "\n",
       "    <div>\n",
       "        <style>\n",
       "            /* Turns off some styling */\n",
       "            progress {\n",
       "                /* gets rid of default border in Firefox and Opera. */\n",
       "                border: none;\n",
       "                /* Needs to be in here for Safari polyfill so background images work as expected. */\n",
       "                background-size: auto;\n",
       "            }\n",
       "            .progress-bar-interrupted, .progress-bar-interrupted::-webkit-progress-bar {\n",
       "                background: #F44336;\n",
       "            }\n",
       "        </style>\n",
       "      <progress value='652' class='' max='652', style='width:300px; height:20px; vertical-align: middle;'></progress>\n",
       "      100.00% [652/652 00:00<00:00]\n",
       "    </div>\n",
       "    "
      ],
      "text/plain": [
       "<IPython.core.display.HTML object>"
      ]
     },
     "metadata": {},
     "output_type": "display_data"
    }
   ],
   "source": [
    "data = (DeepSpeechAudioList.from_folder(\"data/clips\", config=config_split)#, processor=[rs])\n",
    "        .use_partial_data(0.05, seed=42)\n",
    "        .filter_by_func(lambda x: train_file[x.name])\n",
    "        .split_by_rand_pct(0.2, seed=42)\n",
    "        .label_from_func(lambda x: train_df[train_df.path==str(x).split(\"/\")[-1]][\"sentence\"].iloc[0], label_cls=SentenceCharList)\n",
    "        .databunch(bs=32)\n",
    "       )"
   ]
  },
  {
   "cell_type": "code",
   "execution_count": 9,
   "metadata": {},
   "outputs": [],
   "source": [
    "class DeepSpeech(nn.Module):\n",
    "    def __init__(self, context=5, bs=64):\n",
    "        super(DeepSpeech, self).__init__()\n",
    "        self.bs = bs\n",
    "        self.context = context\n",
    "        self.h = None#(torch.zeros((2,5,2048)).cuda(),torch.zeros((2,5,2048)).cuda())#None\n",
    "        self.flatten = nn.Flatten()#lambda x: torch.reshape(x,(-1,1,2432))\n",
    "        self.h1 = nn.Linear(128*2*self.context+128,2048)\n",
    "        self.h2 = nn.Linear(2048,2048)\n",
    "        self.h3 = nn.Linear(2048,2048)\n",
    "        self.h4 = nn.LSTM(2048,2048,bidirectional=False,batch_first=True)\n",
    "        #self.h4 = nn.RNN(2048,2048, nonlinearity=\"relu\",bidirectional=True)\n",
    "        self.h5 = nn.Linear(2048,29) #ct ∈ {a,b,c, . . . , z, space, apostrophe, blank}\n",
    "        self.softmax = nn.LogSoftmax(dim=1)\n",
    "\n",
    "    def forward(self, x):\n",
    "        x = nn.Flatten(-2,-1)(x)#torch.stack(x,dim=1)\n",
    "        x = self.h1(x).clamp(min=0, max=20)\n",
    "        x = self.h2(x).clamp(min=0, max=20)\n",
    "        x = self.h3(x).clamp(min=0, max=20)\n",
    "        if self.h is None:\n",
    "            ;\n",
    "        elif self.h[0].shape[1]>x.size(0):\n",
    "            self.h=tuple([each[:,:x.size(0),:] for each in model.h])\n",
    "        elif self.h[0].shape[1]<x.size(0):\n",
    "            self.h=None#tuple([each.expand(-1,x.size(0),-1) for each in model.h])\n",
    "        x,h = self.h4(x, self.h)\n",
    "        self.h = to_detach(h, cpu=False)\n",
    "        x = x.view(-1,166,1,2048)\n",
    "        x = x.sum(dim=2)\n",
    "        x = self.h5(x).clamp(min=0, max=20)\n",
    "        x = self.softmax(x)\n",
    "        return x"
   ]
  },
  {
   "cell_type": "code",
   "execution_count": 10,
   "metadata": {},
   "outputs": [],
   "source": [
    "def ctc_loss(input, target, bs=64):\n",
    "    r\"\"\"Loss function that makes CTC Loss easier to use especially for putting into a fastai Learner\"\"\"\n",
    "    i_length = torch.tensor([sum([1 for i in t.sum(1) if i != 0]) for t in input])\n",
    "    input = input.permute(1,0,2).detach().requires_grad_()\n",
    "    ctc = nn.CTCLoss(blank=28, zero_infinity=True, reduction=\"sum\")\n",
    "    t_length = torch.tensor([sum([1 for i in t if i != 0])for t in target])\n",
    "    ret = ctc(input, target, input_lengths=i_length, target_lengths=t_length)#torch.tensor([100]*input.size(1)))\n",
    "    return ret"
   ]
  },
  {
   "cell_type": "code",
   "execution_count": 22,
   "metadata": {},
   "outputs": [],
   "source": [
    "model = DeepSpeech(context=5, bs=32)"
   ]
  },
  {
   "cell_type": "code",
   "execution_count": 23,
   "metadata": {},
   "outputs": [],
   "source": [
    "learn = Learner(data, model, loss_func=partial(ctc_loss,bs=32), opt_func=AdamW)"
   ]
  },
  {
   "cell_type": "code",
   "execution_count": 24,
   "metadata": {},
   "outputs": [
    {
     "data": {
      "text/html": [
       "<table border=\"1\" class=\"dataframe\">\n",
       "  <thead>\n",
       "    <tr style=\"text-align: left;\">\n",
       "      <th>epoch</th>\n",
       "      <th>train_loss</th>\n",
       "      <th>valid_loss</th>\n",
       "      <th>time</th>\n",
       "    </tr>\n",
       "  </thead>\n",
       "  <tbody>\n",
       "    <tr>\n",
       "      <td>0</td>\n",
       "      <td>22815.015625</td>\n",
       "      <td>22393.337891</td>\n",
       "      <td>00:23</td>\n",
       "    </tr>\n",
       "    <tr>\n",
       "      <td>1</td>\n",
       "      <td>22768.455078</td>\n",
       "      <td>22393.097656</td>\n",
       "      <td>00:24</td>\n",
       "    </tr>\n",
       "    <tr>\n",
       "      <td>2</td>\n",
       "      <td>22731.625000</td>\n",
       "      <td>22394.027344</td>\n",
       "      <td>00:24</td>\n",
       "    </tr>\n",
       "    <tr>\n",
       "      <td>3</td>\n",
       "      <td>22616.173828</td>\n",
       "      <td>22393.060547</td>\n",
       "      <td>00:24</td>\n",
       "    </tr>\n",
       "    <tr>\n",
       "      <td>4</td>\n",
       "      <td>22804.589844</td>\n",
       "      <td>22393.794922</td>\n",
       "      <td>00:24</td>\n",
       "    </tr>\n",
       "    <tr>\n",
       "      <td>5</td>\n",
       "      <td>22659.431641</td>\n",
       "      <td>22393.273438</td>\n",
       "      <td>00:24</td>\n",
       "    </tr>\n",
       "    <tr>\n",
       "      <td>6</td>\n",
       "      <td>22736.007812</td>\n",
       "      <td>22394.404297</td>\n",
       "      <td>00:24</td>\n",
       "    </tr>\n",
       "    <tr>\n",
       "      <td>7</td>\n",
       "      <td>22791.597656</td>\n",
       "      <td>22392.853516</td>\n",
       "      <td>00:24</td>\n",
       "    </tr>\n",
       "    <tr>\n",
       "      <td>8</td>\n",
       "      <td>22724.533203</td>\n",
       "      <td>22393.158203</td>\n",
       "      <td>00:24</td>\n",
       "    </tr>\n",
       "    <tr>\n",
       "      <td>9</td>\n",
       "      <td>22799.511719</td>\n",
       "      <td>22393.740234</td>\n",
       "      <td>00:24</td>\n",
       "    </tr>\n",
       "  </tbody>\n",
       "</table>"
      ],
      "text/plain": [
       "<IPython.core.display.HTML object>"
      ]
     },
     "metadata": {},
     "output_type": "display_data"
    }
   ],
   "source": [
    "learn.fit_one_cycle(10,1e-3)"
   ]
  },
  {
   "cell_type": "code",
   "execution_count": 19,
   "metadata": {},
   "outputs": [],
   "source": [
    "preds,targs = learn.get_preds()"
   ]
  },
  {
   "cell_type": "code",
   "execution_count": 15,
   "metadata": {},
   "outputs": [
    {
     "data": {
      "text/plain": [
       "torch.Size([652, 166, 29])"
      ]
     },
     "execution_count": 15,
     "metadata": {},
     "output_type": "execute_result"
    }
   ],
   "source": [
    "preds.shape"
   ]
  },
  {
   "cell_type": "code",
   "execution_count": 16,
   "metadata": {},
   "outputs": [
    {
     "data": {
      "text/plain": [
       "torch.Size([652, 100])"
      ]
     },
     "execution_count": 16,
     "metadata": {},
     "output_type": "execute_result"
    }
   ],
   "source": [
    "targs.shape"
   ]
  },
  {
   "cell_type": "code",
   "execution_count": 20,
   "metadata": {},
   "outputs": [
    {
     "data": {
      "text/plain": [
       "tensor([ 2,  2,  2,  2,  2,  2,  2,  2,  2,  2,  2,  2,  2,  2,  2,  2,  2,  2,\n",
       "         2,  2,  2,  2,  2,  2,  2,  2,  2,  2,  2,  2,  2,  2,  2,  2,  2,  2,\n",
       "         2,  2,  2,  2,  2,  2,  2,  2,  2,  2,  2,  2,  2,  2,  2,  2,  2,  2,\n",
       "         2,  2,  2,  2,  2, 24, 28, 28, 28, 28, 18, 18, 18, 18, 18, 18, 18, 18,\n",
       "        18, 18, 15, 18, 18, 18, 18, 18, 18, 18, 18, 18, 18,  6,  6, 18, 18, 18,\n",
       "        18, 18, 18, 18, 18, 18, 18, 18, 18, 18, 11, 18, 18, 18, 18, 18, 14, 27,\n",
       "        27, 27, 27, 27, 27,  2,  2,  2,  2,  2,  2,  2,  2,  2,  2,  2,  2,  2,\n",
       "         2,  2,  2,  2,  2,  2,  2,  2,  2,  2,  2,  2,  2,  2,  2,  2,  2,  2,\n",
       "         2,  2,  2,  2,  2,  2,  2,  2,  2,  2,  2,  2,  2,  2,  2,  2,  2,  2,\n",
       "         2,  2,  2,  2])"
      ]
     },
     "execution_count": 20,
     "metadata": {},
     "output_type": "execute_result"
    }
   ],
   "source": [
    "preds.argmax(dim=2)[phrase]"
   ]
  },
  {
   "cell_type": "code",
   "execution_count": 21,
   "metadata": {},
   "outputs": [
    {
     "name": "stdout",
     "output_type": "stream",
     "text": [
      "cccccccccccccccccccccccccccccccccccccccccccccccccccccccccccysssssssssspssssssssssggssssssssssssslssssso''''''ccccccccccccccccccccccccccccccccccccccccccccccccccccc\n",
      "stop fooling damn you"
     ]
    }
   ],
   "source": [
    "phrase = 0\n",
    "for i in preds.argmax(dim=2)[phrase]: print(learn.data.itoc[i], end='')\n",
    "print(\"\")\n",
    "for i in targs[phrase]: print(learn.data.itoc[i], end='')"
   ]
  },
  {
   "cell_type": "code",
   "execution_count": null,
   "metadata": {},
   "outputs": [],
   "source": []
  }
 ],
 "metadata": {
  "kernelspec": {
   "display_name": "Python 3",
   "language": "python",
   "name": "python3"
  },
  "language_info": {
   "codemirror_mode": {
    "name": "ipython",
    "version": 3
   },
   "file_extension": ".py",
   "mimetype": "text/x-python",
   "name": "python",
   "nbconvert_exporter": "python",
   "pygments_lexer": "ipython3",
   "version": "3.7.4"
  }
 },
 "nbformat": 4,
 "nbformat_minor": 2
}
