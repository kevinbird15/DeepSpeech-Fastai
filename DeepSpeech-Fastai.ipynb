{
 "cells": [
  {
   "cell_type": "code",
   "execution_count": 1,
   "metadata": {},
   "outputs": [],
   "source": [
    "%reload_ext autoreload\n",
    "%autoreload 2\n",
    "%matplotlib inline"
   ]
  },
  {
   "cell_type": "code",
   "execution_count": 2,
   "metadata": {
    "scrolled": false
   },
   "outputs": [],
   "source": [
    "from fastai.audio import *"
   ]
  },
  {
   "cell_type": "code",
   "execution_count": 3,
   "metadata": {},
   "outputs": [],
   "source": [
    "sg_cfg= SpectrogramConfig(hop=480, n_mels=128, n_fft=960, top_db=80, f_min=20.0, f_max=22050)\n",
    "config_split= AudioConfig(resample_to = 8000, remove_silence = \"all\", silence_padding=200, silence_threshold=20, sg_cfg=sg_cfg, duration=10000)"
   ]
  },
  {
   "cell_type": "code",
   "execution_count": 4,
   "metadata": {},
   "outputs": [],
   "source": [
    "train_df = pd.read_csv(Path(\"./data/train.tsv\"),sep=\"\\t\")"
   ]
  },
  {
   "cell_type": "code",
   "execution_count": 5,
   "metadata": {},
   "outputs": [],
   "source": [
    "class DeepSpeechAudioList(AudioList):\n",
    "    _bunch = DataBunch\n",
    "    def __init__(self, items, path, config=AudioConfig(), context=5, **kwargs):\n",
    "        super().__init__(items=items, path=path, config=config, **kwargs)\n",
    "        self.context = context\n",
    "        \n",
    "    def get(self,i):\n",
    "        one_spectro = super().get(i).spectro\n",
    "        one_spectro = F.pad(one_spectro, pad=(self.context,self.context))\n",
    "        return torch.stack([one_spectro[:,:,i:i+(self.context*2+1)].squeeze() for i in range(one_spectro.shape[-1]-(self.context*2))])"
   ]
  },
  {
   "cell_type": "code",
   "execution_count": null,
   "metadata": {},
   "outputs": [],
   "source": []
  },
  {
   "cell_type": "code",
   "execution_count": 6,
   "metadata": {},
   "outputs": [],
   "source": [
    "class SentenceCharList(ItemList):\n",
    "    itoc = [\"a\",\"b\",\"c\",\"d\",\"e\",\"f\",\"g\",\"h\",\"i\",\"j\",\"k\",\"l\",\"m\",\"n\",\"o\",\"p\",\"q\",\"r\",\"s\",\"t\",\"u\",\"v\",\"w\",\"x\",\"y\",\"z\",\" \",\"'\",\"\"]\n",
    "    ctoi = defaultdict(lambda: 28)\n",
    "    def __init__(self, items, path, **kwargs):\n",
    "        super().__init__(items, **kwargs)\n",
    "        for i,char in enumerate(self.itoc):\n",
    "            self.ctoi[char]=i\n",
    "        \n",
    "    def get(self,i):\n",
    "#        return torch.tensor([self.ctoi[j] for j in self.items[i].lower()])\n",
    "        return F.pad(torch.tensor([self.ctoi[j] for j in self.items[i].lower()]), pad=(0,200), mode='constant', value=28)[:100]"
   ]
  },
  {
   "cell_type": "code",
   "execution_count": 7,
   "metadata": {},
   "outputs": [],
   "source": [
    "#My solution to having to look through training files to make sure they are in training and not validation. \n",
    "train_file = defaultdict(bool)\n",
    "for i in train_df.path:\n",
    "    train_file[i] = True"
   ]
  },
  {
   "cell_type": "code",
   "execution_count": 8,
   "metadata": {
    "scrolled": true
   },
   "outputs": [
    {
     "name": "stdout",
     "output_type": "stream",
     "text": [
      "Preprocessing: Resampling to 8000\n"
     ]
    },
    {
     "data": {
      "text/html": [
       "\n",
       "    <div>\n",
       "        <style>\n",
       "            /* Turns off some styling */\n",
       "            progress {\n",
       "                /* gets rid of default border in Firefox and Opera. */\n",
       "                border: none;\n",
       "                /* Needs to be in here for Safari polyfill so background images work as expected. */\n",
       "                background-size: auto;\n",
       "            }\n",
       "            .progress-bar-interrupted, .progress-bar-interrupted::-webkit-progress-bar {\n",
       "                background: #F44336;\n",
       "            }\n",
       "        </style>\n",
       "      <progress value='244' class='' max='244', style='width:300px; height:20px; vertical-align: middle;'></progress>\n",
       "      100.00% [244/244 00:00<00:00]\n",
       "    </div>\n",
       "    "
      ],
      "text/plain": [
       "<IPython.core.display.HTML object>"
      ]
     },
     "metadata": {},
     "output_type": "display_data"
    },
    {
     "name": "stdout",
     "output_type": "stream",
     "text": [
      "Preprocessing: Removing Silence\n"
     ]
    },
    {
     "data": {
      "text/html": [
       "\n",
       "    <div>\n",
       "        <style>\n",
       "            /* Turns off some styling */\n",
       "            progress {\n",
       "                /* gets rid of default border in Firefox and Opera. */\n",
       "                border: none;\n",
       "                /* Needs to be in here for Safari polyfill so background images work as expected. */\n",
       "                background-size: auto;\n",
       "            }\n",
       "            .progress-bar-interrupted, .progress-bar-interrupted::-webkit-progress-bar {\n",
       "                background: #F44336;\n",
       "            }\n",
       "        </style>\n",
       "      <progress value='244' class='' max='244', style='width:300px; height:20px; vertical-align: middle;'></progress>\n",
       "      100.00% [244/244 00:00<00:00]\n",
       "    </div>\n",
       "    "
      ],
      "text/plain": [
       "<IPython.core.display.HTML object>"
      ]
     },
     "metadata": {},
     "output_type": "display_data"
    },
    {
     "name": "stdout",
     "output_type": "stream",
     "text": [
      "Preprocessing: Resampling to 8000\n"
     ]
    },
    {
     "data": {
      "text/html": [
       "\n",
       "    <div>\n",
       "        <style>\n",
       "            /* Turns off some styling */\n",
       "            progress {\n",
       "                /* gets rid of default border in Firefox and Opera. */\n",
       "                border: none;\n",
       "                /* Needs to be in here for Safari polyfill so background images work as expected. */\n",
       "                background-size: auto;\n",
       "            }\n",
       "            .progress-bar-interrupted, .progress-bar-interrupted::-webkit-progress-bar {\n",
       "                background: #F44336;\n",
       "            }\n",
       "        </style>\n",
       "      <progress value='61' class='' max='61', style='width:300px; height:20px; vertical-align: middle;'></progress>\n",
       "      100.00% [61/61 00:00<00:00]\n",
       "    </div>\n",
       "    "
      ],
      "text/plain": [
       "<IPython.core.display.HTML object>"
      ]
     },
     "metadata": {},
     "output_type": "display_data"
    },
    {
     "name": "stdout",
     "output_type": "stream",
     "text": [
      "Preprocessing: Removing Silence\n"
     ]
    },
    {
     "data": {
      "text/html": [
       "\n",
       "    <div>\n",
       "        <style>\n",
       "            /* Turns off some styling */\n",
       "            progress {\n",
       "                /* gets rid of default border in Firefox and Opera. */\n",
       "                border: none;\n",
       "                /* Needs to be in here for Safari polyfill so background images work as expected. */\n",
       "                background-size: auto;\n",
       "            }\n",
       "            .progress-bar-interrupted, .progress-bar-interrupted::-webkit-progress-bar {\n",
       "                background: #F44336;\n",
       "            }\n",
       "        </style>\n",
       "      <progress value='61' class='' max='61', style='width:300px; height:20px; vertical-align: middle;'></progress>\n",
       "      100.00% [61/61 00:00<00:00]\n",
       "    </div>\n",
       "    "
      ],
      "text/plain": [
       "<IPython.core.display.HTML object>"
      ]
     },
     "metadata": {},
     "output_type": "display_data"
    }
   ],
   "source": [
    "data = (DeepSpeechAudioList.from_folder(\"data/clips\", config=config_split)#, processor=[rs])\n",
    "        .use_partial_data(0.005, seed=42)\n",
    "        .filter_by_func(lambda x: train_file[x.name])\n",
    "        .split_by_rand_pct(0.2, seed=42)\n",
    "        .label_from_func(lambda x: train_df[train_df.path==str(x).split(\"/\")[-1]][\"sentence\"].iloc[0], label_cls=SentenceCharList)\n",
    "        .databunch(bs=5)\n",
    "       )"
   ]
  },
  {
   "cell_type": "code",
   "execution_count": 9,
   "metadata": {},
   "outputs": [
    {
     "data": {
      "text/plain": [
       "torch.Size([166, 128, 11])"
      ]
     },
     "execution_count": 9,
     "metadata": {},
     "output_type": "execute_result"
    }
   ],
   "source": [
    "data.train_ds.x[0].shape"
   ]
  },
  {
   "cell_type": "code",
   "execution_count": 10,
   "metadata": {},
   "outputs": [],
   "source": [
    "class DeepSpeech(nn.Module):\n",
    "    def __init__(self, context=5, bs=64):\n",
    "        super(DeepSpeech, self).__init__()\n",
    "        self.bs = bs\n",
    "        self.context = context\n",
    "        self.h = None#(torch.zeros((2,5,2048)).cuda(),torch.zeros((2,5,2048)).cuda())#None\n",
    "        self.flatten = nn.Flatten()#lambda x: torch.reshape(x,(-1,1,2432))\n",
    "        self.h1 = nn.Linear(128*2*self.context+128,2048)\n",
    "        self.h2 = nn.Linear(2048,2048)\n",
    "        self.h3 = nn.Linear(2048,2048)\n",
    "        self.h4 = nn.LSTM(2048,2048,batch_first=True)#bidirectional=True,batch_first=True)\n",
    "        #self.h4 = nn.RNN(2048,2048, nonlinearity=\"relu\",bidirectional=True)\n",
    "        self.h5 = nn.Linear(2048,29) #ct ∈ {a,b,c, . . . , z, space, apostrophe, blank}\n",
    "        self.softmax = nn.Softmax(dim=1)\n",
    "\n",
    "    def forward(self, x):\n",
    "        x = nn.Flatten(-2,-1)(x)#torch.stack(x,dim=1)\n",
    "        x = self.h1(x).clamp(min=0, max=20)\n",
    "        x = self.h2(x).clamp(min=0, max=20)\n",
    "        x = self.h3(x).clamp(min=0, max=20)\n",
    "        if self.h is None:\n",
    "            ;\n",
    "        elif self.h[0].shape[1]>x.size(0):\n",
    "            self.h=tuple([each[:,:x.size(0),:] for each in model.h])\n",
    "        elif self.h[0].shape[1]<x.size(0):\n",
    "            self.h=None#tuple([each.expand(-1,x.size(0),-1) for each in model.h])\n",
    "        x,h = self.h4(x, self.h)\n",
    "        self.h = to_detach(h, cpu=False)\n",
    "        x = x.view(-1,166,1,2048)\n",
    "        x = x.sum(dim=2)\n",
    "        x = self.h5(x).clamp(min=0, max=20)\n",
    "        x = self.softmax(x)\n",
    "        return x"
   ]
  },
  {
   "cell_type": "code",
   "execution_count": 11,
   "metadata": {},
   "outputs": [],
   "source": [
    "def ctc_loss(input, target, bs=64):\n",
    "    r\"\"\"Loss function that makes CTC Loss easier to use especially for putting into a fastai Learner\"\"\"\n",
    "    input = input.permute(1,0,2).detach().requires_grad_()\n",
    "    ctc = nn.CTCLoss(blank=28, zero_infinity=True, reduction=\"sum\")\n",
    "    ret = ctc(input, target, input_lengths=torch.tensor([166]*input.size(1)), target_lengths=torch.tensor([100]*input.size(1)))\n",
    "    return ret"
   ]
  },
  {
   "cell_type": "code",
   "execution_count": 12,
   "metadata": {},
   "outputs": [],
   "source": [
    "model = DeepSpeech(context=5, bs=5)"
   ]
  },
  {
   "cell_type": "code",
   "execution_count": 13,
   "metadata": {},
   "outputs": [],
   "source": [
    "learn = Learner(data, model, loss_func=partial(ctc_loss,bs=5), opt_func=AdamW)"
   ]
  },
  {
   "cell_type": "code",
   "execution_count": 14,
   "metadata": {},
   "outputs": [],
   "source": [
    "#ctc_loss(inp,data.one_batch()[1].cuda(), bs=2)"
   ]
  },
  {
   "cell_type": "code",
   "execution_count": 15,
   "metadata": {},
   "outputs": [
    {
     "data": {
      "text/html": [],
      "text/plain": [
       "<IPython.core.display.HTML object>"
      ]
     },
     "metadata": {},
     "output_type": "display_data"
    },
    {
     "name": "stdout",
     "output_type": "stream",
     "text": [
      "LR Finder is complete, type {learner_name}.recorder.plot() to see the graph.\n"
     ]
    }
   ],
   "source": [
    "learn.lr_find()"
   ]
  },
  {
   "cell_type": "code",
   "execution_count": 78,
   "metadata": {},
   "outputs": [],
   "source": [
    "# epochs=1\n",
    "# callbacks = [cb(learn) for cb in learn.callback_fns + listify(defaults.extra_callback_fns)]\n",
    "# cb_handler = CallbackHandler(callbacks, None)\n",
    "# pbar = master_bar(range(epochs))\n",
    "# cb_handler.on_train_begin(epochs, pbar=pbar, metrics=None)\n",
    "# learn.model.train()\n",
    "# cb_handler.set_dl(learn.data.train_dl)\n",
    "# cb_handler.on_epoch_begin()\n",
    "# xb,yb = next(iter(data.train_dl))\n",
    "# xb,yb = cb_handler.on_batch_begin(xb,yb)\n",
    "# learn.loss_func\n",
    "# learn.opt\n",
    "# loss_batch??\n",
    "# loss_batch(learn.model, xb,yb, learn.loss_func, learn.opt, cb_handler)\n",
    "# xb=[xb]\n",
    "# yb=[yb]\n",
    "# out = learn.model(*xb)\n",
    "# out = cb_handler.on_loss_begin(out)\n",
    "# loss = learn.loss_func(out, *yb)\n",
    "# loss\n",
    "# learn.loss_func"
   ]
  },
  {
   "cell_type": "code",
   "execution_count": 16,
   "metadata": {},
   "outputs": [
    {
     "data": {
      "image/png": "[encoded data removed]",
      "text/plain": [
       "<Figure size 432x288 with 1 Axes>"
      ]
     },
     "metadata": {
      "needs_background": "light"
     },
     "output_type": "display_data"
    }
   ],
   "source": [
    "learn.recorder.plot()"
   ]
  },
  {
   "cell_type": "code",
   "execution_count": null,
   "metadata": {},
   "outputs": [
    {
     "data": {
      "text/html": [
       "\n",
       "    <div>\n",
       "        <style>\n",
       "            /* Turns off some styling */\n",
       "            progress {\n",
       "                /* gets rid of default border in Firefox and Opera. */\n",
       "                border: none;\n",
       "                /* Needs to be in here for Safari polyfill so background images work as expected. */\n",
       "                background-size: auto;\n",
       "            }\n",
       "            .progress-bar-interrupted, .progress-bar-interrupted::-webkit-progress-bar {\n",
       "                background: #F44336;\n",
       "            }\n",
       "        </style>\n",
       "      <progress value='8' class='' max='10', style='width:300px; height:20px; vertical-align: middle;'></progress>\n",
       "      80.00% [8/10 00:28<00:07]\n",
       "    </div>\n",
       "    \n",
       "<table border=\"1\" class=\"dataframe\">\n",
       "  <thead>\n",
       "    <tr style=\"text-align: left;\">\n",
       "      <th>epoch</th>\n",
       "      <th>train_loss</th>\n",
       "      <th>valid_loss</th>\n",
       "      <th>time</th>\n",
       "    </tr>\n",
       "  </thead>\n",
       "  <tbody>\n",
       "    <tr>\n",
       "      <td>0</td>\n",
       "      <td>-336.870270</td>\n",
       "      <td>-347.053528</td>\n",
       "      <td>00:03</td>\n",
       "    </tr>\n",
       "    <tr>\n",
       "      <td>1</td>\n",
       "      <td>-342.174011</td>\n",
       "      <td>-347.058960</td>\n",
       "      <td>00:03</td>\n",
       "    </tr>\n",
       "    <tr>\n",
       "      <td>2</td>\n",
       "      <td>-335.073914</td>\n",
       "      <td>-347.060364</td>\n",
       "      <td>00:03</td>\n",
       "    </tr>\n",
       "    <tr>\n",
       "      <td>3</td>\n",
       "      <td>-340.327209</td>\n",
       "      <td>-347.063568</td>\n",
       "      <td>00:03</td>\n",
       "    </tr>\n",
       "    <tr>\n",
       "      <td>4</td>\n",
       "      <td>-339.494385</td>\n",
       "      <td>-347.061188</td>\n",
       "      <td>00:03</td>\n",
       "    </tr>\n",
       "    <tr>\n",
       "      <td>5</td>\n",
       "      <td>-342.326019</td>\n",
       "      <td>-347.059998</td>\n",
       "      <td>00:03</td>\n",
       "    </tr>\n",
       "    <tr>\n",
       "      <td>6</td>\n",
       "      <td>-343.867188</td>\n",
       "      <td>-347.059174</td>\n",
       "      <td>00:03</td>\n",
       "    </tr>\n",
       "    <tr>\n",
       "      <td>7</td>\n",
       "      <td>-344.880493</td>\n",
       "      <td>-347.056793</td>\n",
       "      <td>00:03</td>\n",
       "    </tr>\n",
       "  </tbody>\n",
       "</table><p>\n",
       "\n",
       "    <div>\n",
       "        <style>\n",
       "            /* Turns off some styling */\n",
       "            progress {\n",
       "                /* gets rid of default border in Firefox and Opera. */\n",
       "                border: none;\n",
       "                /* Needs to be in here for Safari polyfill so background images work as expected. */\n",
       "                background-size: auto;\n",
       "            }\n",
       "            .progress-bar-interrupted, .progress-bar-interrupted::-webkit-progress-bar {\n",
       "                background: #F44336;\n",
       "            }\n",
       "        </style>\n",
       "      <progress value='43' class='' max='48', style='width:300px; height:20px; vertical-align: middle;'></progress>\n",
       "      89.58% [43/48 00:02<00:00 -342.1954]\n",
       "    </div>\n",
       "    "
      ],
      "text/plain": [
       "<IPython.core.display.HTML object>"
      ]
     },
     "metadata": {},
     "output_type": "display_data"
    }
   ],
   "source": [
    "learn.fit_one_cycle(10,1e-5)"
   ]
  },
  {
   "cell_type": "code",
   "execution_count": 20,
   "metadata": {},
   "outputs": [],
   "source": [
    "preds,targs = learn.get_preds()"
   ]
  },
  {
   "cell_type": "code",
   "execution_count": 21,
   "metadata": {},
   "outputs": [
    {
     "data": {
      "text/plain": [
       "torch.Size([61, 166, 29])"
      ]
     },
     "execution_count": 21,
     "metadata": {},
     "output_type": "execute_result"
    }
   ],
   "source": [
    "preds.shape"
   ]
  },
  {
   "cell_type": "code",
   "execution_count": 22,
   "metadata": {},
   "outputs": [
    {
     "data": {
      "text/plain": [
       "torch.Size([61, 100])"
      ]
     },
     "execution_count": 22,
     "metadata": {},
     "output_type": "execute_result"
    }
   ],
   "source": [
    "targs.shape"
   ]
  },
  {
   "cell_type": "code",
   "execution_count": 23,
   "metadata": {},
   "outputs": [
    {
     "data": {
      "text/plain": [
       "tensor([ 7,  7, 25, 25, 25, 25, 25, 25, 25, 16,  5, 15, 15, 15, 15, 15, 24, 24,\n",
       "        24, 24, 21, 21, 13, 13, 13, 13, 13, 15, 22, 22, 22, 22, 21, 21, 21, 22,\n",
       "        22, 22, 22, 24, 22, 24, 24, 24, 24, 21, 22, 24, 22, 22, 24, 24, 14, 14,\n",
       "        14, 14, 21, 24, 24, 11, 14, 14, 14, 14, 14, 14, 14, 21, 21, 21, 21, 21,\n",
       "        21, 27, 27, 27, 25, 25, 25, 25, 25, 25, 25, 25, 25, 25, 25, 25, 25, 25,\n",
       "        25, 25, 25, 25, 25, 25, 25, 25, 25, 25, 25, 25, 25, 25, 25, 25, 25, 25,\n",
       "        25, 25, 25, 25, 25, 25, 25, 25, 25, 25, 25, 25, 25, 25, 25, 25, 25, 25,\n",
       "        25, 25, 25, 25, 25, 25, 25, 25, 25, 25, 25, 25, 25, 25, 25, 25, 25, 25,\n",
       "        25, 25, 25, 25, 25, 25, 25, 25, 25, 25, 25, 25, 25, 25, 25, 25, 25, 25,\n",
       "        25, 25, 25, 25])"
      ]
     },
     "execution_count": 23,
     "metadata": {},
     "output_type": "execute_result"
    }
   ],
   "source": [
    "preds.argmax(dim=2)[0]"
   ]
  },
  {
   "cell_type": "code",
   "execution_count": 24,
   "metadata": {},
   "outputs": [
    {
     "data": {
      "text/plain": [
       "tensor([12, 24, 26,  9,  4, 22,  4, 11, 18, 26,  0, 17,  4, 26,  0, 11, 11, 26,\n",
       "         8, 13, 26, 19,  7,  4,  8, 17, 26, 15, 17, 14, 15,  4, 17, 26, 15, 11,\n",
       "         0,  2,  4, 18, 26, 14,  5, 26, 10,  4,  4, 15,  8, 13,  6, 28, 28, 28,\n",
       "        28, 28, 28, 28, 28, 28, 28, 28, 28, 28, 28, 28, 28, 28, 28, 28, 28, 28,\n",
       "        28, 28, 28, 28, 28, 28, 28, 28, 28, 28, 28, 28, 28, 28, 28, 28, 28, 28,\n",
       "        28, 28, 28, 28, 28, 28, 28, 28, 28, 28])"
      ]
     },
     "execution_count": 24,
     "metadata": {},
     "output_type": "execute_result"
    }
   ],
   "source": [
    "targs[0]"
   ]
  },
  {
   "cell_type": "code",
   "execution_count": null,
   "metadata": {},
   "outputs": [],
   "source": []
  },
  {
   "cell_type": "code",
   "execution_count": null,
   "metadata": {},
   "outputs": [],
   "source": []
  }
 ],
 "metadata": {
  "kernelspec": {
   "display_name": "Python 3",
   "language": "python",
   "name": "python3"
  },
  "language_info": {
   "codemirror_mode": {
    "name": "ipython",
    "version": 3
   },
   "file_extension": ".py",
   "mimetype": "text/x-python",
   "name": "python",
   "nbconvert_exporter": "python",
   "pygments_lexer": "ipython3",
   "version": "3.7.4"
  }
 },
 "nbformat": 4,
 "nbformat_minor": 2
}
